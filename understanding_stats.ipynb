{
 "cells": [
  {
   "cell_type": "markdown",
   "id": "4210dd95-7c0c-416a-9a77-0da385cef2ed",
   "metadata": {},
   "source": [
    "# Understanding Statistics textbook\n",
    "\n",
    "This notebook illustrates Python solutions for a small selection of the sample problems from the following textbook.\n",
    "\n",
    "Pagano, R. R. (2009). Understanding Statistics in the Behavioral Sciences (9th Edition). Wadsworth Cengage Learning."
   ]
  },
  {
   "cell_type": "code",
   "execution_count": 1,
   "id": "c03d09a4-5ab5-42ed-8022-4cb3a9fda0ae",
   "metadata": {},
   "outputs": [],
   "source": [
    "import functools\n",
    "import math\n",
    "\n",
    "import matplotlib.pyplot as plt\n",
    "import numpy as np\n",
    "import scipy.stats\n",
    "import statsmodels.stats.api\n",
    "import statsmodels.stats.multicomp"
   ]
  },
  {
   "cell_type": "code",
   "execution_count": 2,
   "id": "c7d0086e-f096-40ee-8929-a1f22518aca2",
   "metadata": {},
   "outputs": [
    {
     "name": "stdout",
     "output_type": "stream",
     "text": [
      "66.8\n",
      "66.5\n"
     ]
    }
   ],
   "source": [
    "#### Practice Problem 3.3, p.53\n",
    "\n",
    "# Score at a given percentile\n",
    "\n",
    "# scores in Table 3.1, p.43 \n",
    "data = [\n",
    "    95,57,76,93,86,80,89,\n",
    "    76,76,63,74,94,96,77,\n",
    "    65,79,60,56,72,82,70,\n",
    "    67,79,71,77,52,76,68,\n",
    "    72,88,84,70,83,93,76,\n",
    "    82,96,87,69,89,77,81,\n",
    "    87,65,77,72,56,78,78,\n",
    "    58,54,82,82,66,73,79,\n",
    "    86,81,63,46,62,99,93,\n",
    "    82,92,75,76,90,74,67\n",
    "]\n",
    "\n",
    "# Pagano = 66.64\n",
    "# formula in the textbook uses intervals; for the numpy function,\n",
    "# linear and midpoint are probably the closest interpolation methods.\n",
    "print(np.percentile(data, 20, interpolation='linear'))\n",
    "print(np.percentile(data, 20, interpolation='midpoint'))"
   ]
  },
  {
   "cell_type": "code",
   "execution_count": 3,
   "id": "81a2e9c2-23b6-4329-bea1-70338ab74c4e",
   "metadata": {},
   "outputs": [
    {
     "name": "stdout",
     "output_type": "stream",
     "text": [
      "10.0\n"
     ]
    }
   ],
   "source": [
    "#### Practice Problem 3.5\n",
    "\n",
    "# Percentile Rank of a score\n",
    "\n",
    "# Pagano = 9.43\n",
    "# scipy rounds up\n",
    "print(scipy.stats.percentileofscore(data, 59))"
   ]
  },
  {
   "cell_type": "code",
   "execution_count": 4,
   "id": "fbc829c1-627b-403d-af7d-d02125b01be5",
   "metadata": {},
   "outputs": [
    {
     "data": {
      "text/plain": [
       "75.65217391304348"
      ]
     },
     "execution_count": 4,
     "metadata": {},
     "output_type": "execute_result"
    }
   ],
   "source": [
    "#### Practice Problem 4.2\n",
    "\n",
    "# Overall mean from several means\n",
    "\n",
    "# Pagano = 75.65\n",
    "# 3 means of groups of different sizes (weights)\n",
    "np.ma.average([75, 80, 70], weights=[50, 40, 25])"
   ]
  },
  {
   "cell_type": "code",
   "execution_count": 5,
   "id": "555a6f39-4ee4-41e4-b3ba-2272a611f6ee",
   "metadata": {},
   "outputs": [
    {
     "data": {
      "text/plain": [
       "7.94494947889678"
      ]
     },
     "execution_count": 5,
     "metadata": {},
     "output_type": "execute_result"
    }
   ],
   "source": [
    "#### Practice Problem 4.6\n",
    "\n",
    "# Standard deviation\n",
    "\n",
    "data = [25,28,35,37,38,40,42,45,47,50]\n",
    "\n",
    "# Pagano = 7.94\n",
    "# example is in the context of calculating standard deviation\n",
    "# for sample scores in order to estimate it for the population,\n",
    "# so 1 degree of freedom is used\n",
    "np.std(data, ddof=1)"
   ]
  },
  {
   "cell_type": "code",
   "execution_count": 6,
   "id": "228d3da1-2355-4458-b186-51044b60dc8c",
   "metadata": {},
   "outputs": [
    {
     "name": "stdout",
     "output_type": "stream",
     "text": [
      "0.6305586598182363\n"
     ]
    }
   ],
   "source": [
    "#### Practice Problem 5.2\n",
    "\n",
    "# find percentile rank of a score within a normal distribution\n",
    "\n",
    "# create a normal distribution whose mean = 80, std dev = 12\n",
    "dist = scipy.stats.norm(80, 12)\n",
    "\n",
    "# Pagano = 62.93%\n",
    "# percentile rank = cumulative distribution function\n",
    "print(dist.cdf(84))"
   ]
  },
  {
   "cell_type": "code",
   "execution_count": 7,
   "id": "b7bafcc1-ac4f-492d-9408-c9f05ff0d4a9",
   "metadata": {},
   "outputs": [
    {
     "name": "stdout",
     "output_type": "stream",
     "text": [
      "0.706460399310489\n"
     ]
    }
   ],
   "source": [
    "#### Practice Problem 5.4\n",
    "\n",
    "# percentage of scores that fall between 64 and 90\n",
    "\n",
    "# Pagano = 70.49%\n",
    "print(dist.cdf(90) - dist.cdf(64))"
   ]
  },
  {
   "cell_type": "code",
   "execution_count": 8,
   "id": "30394743-3ea5-4d97-abd4-719572023022",
   "metadata": {},
   "outputs": [
    {
     "name": "stdout",
     "output_type": "stream",
     "text": [
      "107.91617448849009\n"
     ]
    }
   ],
   "source": [
    "#### Practice Problem 5.6\n",
    "\n",
    "# \"What is the score that divides the distribution such that 99% of the area is below it?\"\n",
    "\n",
    "# Pagano = 107.96\n",
    "print(dist.ppf(0.99))"
   ]
  },
  {
   "cell_type": "code",
   "execution_count": 9,
   "id": "db903010-ac6b-442e-844e-1fefb4068716",
   "metadata": {},
   "outputs": [
    {
     "name": "stdout",
     "output_type": "stream",
     "text": [
      "56.48043218551935 103.51956781448065\n"
     ]
    }
   ],
   "source": [
    "#### Practice Problem 5.7\n",
    "\n",
    "# What are the scores that bound the middle 95% of the distribution?\n",
    "\n",
    "# Pagano = 56.48 - 103.52\n",
    "# the bounds at 2.5% and 97.5%\n",
    "print(dist.ppf(0.025),dist.ppf(0.975))"
   ]
  },
  {
   "cell_type": "code",
   "execution_count": 10,
   "id": "efd58fba-b2df-4c0d-befa-e80313697620",
   "metadata": {},
   "outputs": [
    {
     "name": "stdout",
     "output_type": "stream",
     "text": [
      "0.855581148282319\n"
     ]
    }
   ],
   "source": [
    "#### Practice Problem 6.1\n",
    "\n",
    "# Pearson r\n",
    "\n",
    "obs1 = [110,112,118,119,122,125,127,130,132,134,136,138]\n",
    "obs2 = [1.0,1.6,1.2,2.1,2.6,1.8,2.6,2.0,3.2,2.6,3.0,3.6]\n",
    "\n",
    "# Pagano = 0.86\n",
    "print(scipy.stats.pearsonr(obs1, obs2)[0])"
   ]
  },
  {
   "cell_type": "code",
   "execution_count": 11,
   "id": "ac2c673c-2872-43cb-beec-7000effd3505",
   "metadata": {},
   "outputs": [
    {
     "name": "stdout",
     "output_type": "stream",
     "text": [
      "0.9347635546721791\n"
     ]
    }
   ],
   "source": [
    "#### Practice Problem 6.3\n",
    "\n",
    "# Spearman rank order correlation, used for ordinal scaling\n",
    "\n",
    "obs1 = [0.30,0.44,0.67,0.00,0.50,0.15,0.58,0.32,0.72,1.00,0.87,0.09,0.82,0.64,0.24]\n",
    "obs2 = [8.9,9.3,9.6,6.2,8.8,8.1,9.5,7.1,11.0,11.7,11.5,7.3,10.0,10.0,7.5]\n",
    "\n",
    "# Pagano = 0.93\n",
    "print(scipy.stats.spearmanr(obs1, obs2).correlation)"
   ]
  },
  {
   "cell_type": "code",
   "execution_count": 12,
   "id": "703073cd-c3b5-4cce-a157-9f03e703ce42",
   "metadata": {},
   "outputs": [
    {
     "name": "stdout",
     "output_type": "stream",
     "text": [
      "69.55230125523012\n"
     ]
    }
   ],
   "source": [
    "#### Practice Problem 7.1\n",
    "\n",
    "# linear regression, using least squares\n",
    "\n",
    "x = [30,30,32,33,34,35,36,38,40,41,41,43,45,45,47,48]\n",
    "y = [59,63,62,67,65,61,69,66,68,65,73,68,71,74,71,75]\n",
    "\n",
    "# order matters: this is regression line of Y on X, used to predict Y.\n",
    "# if we switch the argument order, we get regression of X on Y,\n",
    "# which results in a different equation.\n",
    "\n",
    "result = scipy.stats.linregress(x, y)\n",
    "# y=mx+b\n",
    "# not sure if there's a way to plug x into a line equation\n",
    "y = result.slope * 42 + result.intercept\n",
    "# Pagano = 69.55\n",
    "print(y)"
   ]
  },
  {
   "cell_type": "code",
   "execution_count": 13,
   "id": "dfb51085-68f3-4f91-b93d-1f9f7b053d03",
   "metadata": {},
   "outputs": [
    {
     "name": "stdout",
     "output_type": "stream",
     "text": [
      "0.021484375000000003\n"
     ]
    }
   ],
   "source": [
    "#### Practice Problem 9.2\n",
    "\n",
    "# binomial distribution\n",
    "\n",
    "# If 10 unbiased coins are flipped once, what is the probability\n",
    "# of getting a result as extreme or more extreme than 9 heads?\n",
    "\n",
    "dist = scipy.stats.binom(10, 0.5)\n",
    "\n",
    "# Pagano = 0.0216\n",
    "print(dist.pmf(0) + \n",
    "    dist.pmf(1) +\n",
    "    dist.pmf(9) + \n",
    "    dist.pmf(10))"
   ]
  },
  {
   "cell_type": "code",
   "execution_count": 14,
   "id": "923fd760-5d3e-4494-b980-68299fd85b98",
   "metadata": {},
   "outputs": [
    {
     "name": "stdout",
     "output_type": "stream",
     "text": [
      "0.0012247199999999992\n",
      "0.0012903299999999993\n"
     ]
    }
   ],
   "source": [
    "#### Practice Problem 9.3\n",
    "\n",
    "# binomial distribution, where P != Q\n",
    "\n",
    "# Eight biased coins (probability of heads = 0.3) are flipped once,\n",
    "# what is the probability of getting 7 heads? 7 or 8 heads?\n",
    "\n",
    "dist = scipy.stats.binom(8, 0.3)\n",
    "# Pagano = 0.0012\n",
    "print(dist.pmf(7))\n",
    "# Pagano = 0.0013\n",
    "print(dist.pmf(7) + dist.pmf(8))"
   ]
  },
  {
   "cell_type": "code",
   "execution_count": 15,
   "id": "2a503737-6885-4dbe-8394-7e1544bdf152",
   "metadata": {},
   "outputs": [
    {
     "name": "stdout",
     "output_type": "stream",
     "text": [
      "0.0021333624110880596\n"
     ]
    }
   ],
   "source": [
    "#### Practice Problem 9.7\n",
    "\n",
    "# using normal approximation\n",
    "\n",
    "# figure out parameters for normal dist\n",
    "n = 150\n",
    "p = 0.20\n",
    "q = 1.0 - p\n",
    "mean =  n * p\n",
    "std_dev = math.sqrt(n*p*q)\n",
    "\n",
    "# construct normal dist\n",
    "dist = scipy.stats.norm(mean, std_dev)\n",
    "\n",
    "# Pagano = 0.0021\n",
    "print(dist.cdf(16))"
   ]
  },
  {
   "cell_type": "code",
   "execution_count": 16,
   "id": "7395e218-0eab-41e8-9e95-91d54fda3376",
   "metadata": {},
   "outputs": [
    {
     "name": "stdout",
     "output_type": "stream",
     "text": [
      "0.038574218750000014\n",
      "0.038574218749999986\n",
      "0.03857421875\n",
      "True\n"
     ]
    }
   ],
   "source": [
    "#### Practice Problem 10.1\n",
    "\n",
    "# Sign test, non-directional hypothesis\n",
    "\n",
    "dist = scipy.stats.binom(12, 0.5)\n",
    "\n",
    "# Pagano = 0.0384\n",
    "\n",
    "# since it's non-directional, we want probability at either ends of the curve.\n",
    "# these 3 are equivalent.\n",
    "p1 = dist.pmf(0) + dist.pmf(1) + dist.pmf(2) + \\\n",
    "    dist.pmf(10) + dist.pmf(11) + dist.pmf(12)\n",
    "p2 = (dist.pmf(10) + dist.pmf(11) + dist.pmf(12)) * 2\n",
    "# we have to use 2 for cdf, since it's cumulative starting from 0\n",
    "p3 = dist.cdf(2) * 2\n",
    "\n",
    "print(p1)\n",
    "print(p2)\n",
    "print(p3)\n",
    "\n",
    "# can we reject null hypothesis?\n",
    "# using 0.05 for two tailed alpha\n",
    "print(p3 < 0.05)"
   ]
  },
  {
   "cell_type": "code",
   "execution_count": 17,
   "id": "60859e0f-1d7b-42bb-83d2-f0aa63a3fc1f",
   "metadata": {},
   "outputs": [
    {
     "name": "stdout",
     "output_type": "stream",
     "text": [
      "0.017578124999999986\n",
      "0.017578125\n",
      "False\n"
     ]
    }
   ],
   "source": [
    "#### Practice Problem 10.2\n",
    "\n",
    "# Sign test, directional hypothesis\n",
    "n = 15\n",
    "dist = scipy.stats.binom(15, 0.5)\n",
    "\n",
    "p_events = 12\n",
    "\n",
    "# these are equivalent\n",
    "p1 = dist.pmf(12) + dist.pmf(13) + dist.pmf(14) + dist.pmf(15)\n",
    "p2 = dist.cdf(n - p_events)\n",
    "print(p1)\n",
    "print(p2)\n",
    "\n",
    "# can we reject null hypothesis?\n",
    "# using 0.01 for single tailed alpha\n",
    "print(p2 < 0.01)"
   ]
  },
  {
   "cell_type": "code",
   "execution_count": 18,
   "id": "b5cfedb3-fee1-4f01-91d2-abd25127848b",
   "metadata": {},
   "outputs": [
    {
     "name": "stdout",
     "output_type": "stream",
     "text": [
      "1.772657050698355\n",
      "1.959963984540054\n",
      "False\n"
     ]
    }
   ],
   "source": [
    "#### Practice Problem 12.1\n",
    "\n",
    "# normal deviate z test, two tailed alpha\n",
    "\n",
    "# there doesn't appear to exist a normal deviate z test \n",
    "# that accepts these parameters in the popular stats libraries.\n",
    "# they all are calculated on samples. e.g. scipy.stats.normaltest()\n",
    "#\n",
    "# so we implement our own.\n",
    "def normal_deviate_z(sample_mean, sample_n, pop_mean, pop_std_dev):\n",
    "    sample_std_dev_est = pop_std_dev / math.sqrt(sample_n)\n",
    "    z_obt = (sample_mean - pop_mean) / sample_std_dev_est\n",
    "    return z_obt\n",
    "\n",
    "# Pagano = 1.77\n",
    "z_obt = normal_deviate_z(23.5, 150, 22.4, 7.6)\n",
    "print(z_obt)\n",
    "\n",
    "# two tailed alpha of 0.05 means 0.025 at either end of the curve\n",
    "z_crit = scipy.stats.norm.ppf(1 - 0.05/2)\n",
    "print(z_crit)\n",
    "\n",
    "# can we reject null hypothesis?\n",
    "print(abs(z_obt) > abs(z_crit))"
   ]
  },
  {
   "cell_type": "code",
   "execution_count": 19,
   "id": "87360cf8-fe91-4f34-92f2-ccfd57c325e1",
   "metadata": {},
   "outputs": [
    {
     "name": "stdout",
     "output_type": "stream",
     "text": [
      "3.247595264191647\n",
      "-1.6448536269514729\n",
      "True\n"
     ]
    }
   ],
   "source": [
    "#### Practice Problem 12.2\n",
    "\n",
    "# normal deviate z test, single tailed alpha\n",
    "\n",
    "# Pagano = 3.25\n",
    "z_obt = normal_deviate_z(26.5, 75, 24.7, 4.8)\n",
    "print(z_obt) \n",
    "\n",
    "# one tailed test\n",
    "z_crit = scipy.stats.norm.ppf(0.05)\n",
    "print(z_crit)\n",
    "\n",
    "# can we reject null hypothesis?\n",
    "print(abs(z_obt) > abs(z_crit))"
   ]
  },
  {
   "cell_type": "code",
   "execution_count": 20,
   "id": "2c1c19a9-4642-49fe-b1be-76a07559eb45",
   "metadata": {},
   "outputs": [
    {
     "name": "stdout",
     "output_type": "stream",
     "text": [
      "1.386750490563073\n",
      "3.4994832973505026\n",
      "False\n"
     ]
    }
   ],
   "source": [
    "#### Practice Problem 13.1\n",
    "\n",
    "# Student's t test for single sample\n",
    "\n",
    "data = [64,66,68,60,62,65,66,63]\n",
    "\n",
    "# Pagano = 1.39\n",
    "result = scipy.stats.ttest_1samp(data, 63)\n",
    "t_obt = result.statistic\n",
    "print(t_obt)\n",
    "\n",
    "# two tailed alpha\n",
    "t_crit = scipy.stats.t.ppf(q=1 - 0.01/2, df=len(data)-1)\n",
    "print(t_crit)\n",
    "\n",
    "# can we reject null hypothesis?\n",
    "print(abs(t_obt) >= abs(t_crit))"
   ]
  },
  {
   "cell_type": "code",
   "execution_count": 21,
   "id": "ab59a202-653a-416f-adb4-17b80079b258",
   "metadata": {},
   "outputs": [
    {
     "name": "stdout",
     "output_type": "stream",
     "text": [
      "(6.934184860048973, 7.465815139951028)\n"
     ]
    }
   ],
   "source": [
    "#### Practice Problem 13.3\n",
    "\n",
    "# confidence interval\n",
    "\n",
    "# it seems like there should be an easier way to calculate this,\n",
    "# but if I create a t distribution w/ various arguments\n",
    "# it doesn't give the right result. so we do it by hand.\n",
    "def ci(interval, n, mean, std_dev):\n",
    "    end = (1 - interval) / 2\n",
    "    t_dist = scipy.stats.t(df=n-1)\n",
    "    low = mean - abs(t_dist.ppf(end)) * (std_dev / math.sqrt(n)) \n",
    "    high = mean + abs(t_dist.ppf(end)) * (std_dev / math.sqrt(n))\n",
    "    return (low, high)\n",
    "\n",
    "n = 15\n",
    "mean = 7.2\n",
    "std_dev = 0.48\n",
    "\n",
    "# Pagano = 6.93 - 7.47\n",
    "print(ci(0.95, n, mean, std_dev))"
   ]
  },
  {
   "cell_type": "code",
   "execution_count": 22,
   "id": "7e4e485b-177b-4efa-8b38-d1b0cb521382",
   "metadata": {},
   "outputs": [
    {
     "name": "stdout",
     "output_type": "stream",
     "text": [
      "-0.3020893399613755\n",
      "0.6411448089144851\n",
      "False\n"
     ]
    }
   ],
   "source": [
    "#### Practice Problem 13.5\n",
    "\n",
    "# testing significance of pearson r\n",
    "\n",
    "def r_critical(n, alpha):\n",
    "    \"\"\"\n",
    "    there doesn't appear to be a distribution of pearson r values in scipy.\n",
    "    this calculation is effectively Table E in Pagano, though he doesn't give\n",
    "    the derivation.\n",
    "\n",
    "    taken from:\n",
    "    https://stackoverflow.com/questions/29280587/finding-critical-values-for-the-pearson-correlation-coefficient    \n",
    "\n",
    "    \"The significance of a correlation coefficient, r, is determined by\n",
    "    converting r to a t-statistic and then finding the significance of that\n",
    "    t-value at the degrees of freedom that correspond to the sample size, n.\n",
    "    So, you can use R to find the critical t-value and then convert that value\n",
    "    back to a correlation coefficient to find the critical correlation\n",
    "    coefficient.\"\n",
    "\n",
    "    \"\"\"\n",
    "    df = n - 2\n",
    "    t_critical = scipy.stats.t(df=df).ppf(alpha/2)\n",
    "    r_critical = math.sqrt( (t_critical**2) / ( (t_critical**2) + df ) )\n",
    "    return r_critical\n",
    "\n",
    "obs1 = [15,30,35,10,28,40,45,24,21,25,18,13,9,30,23]\n",
    "obs2 = [19,22,17,25,23,21,14,10,18,19,30,32,16,28,24]\n",
    "\n",
    "# Pagano = -0.30\n",
    "r_obs = scipy.stats.pearsonr(obs1, obs2)[0]\n",
    "print(r_obs)\n",
    "\n",
    "# Pagano = 0.6411\n",
    "r_crit = r_critical(15, 0.01)\n",
    "print(r_crit)\n",
    "\n",
    "# can we reject null hypothesis?\n",
    "print(abs(r_obs) >= r_crit)"
   ]
  },
  {
   "cell_type": "code",
   "execution_count": 23,
   "id": "cff80ea3-b581-4a75-826a-c2969d164a5f",
   "metadata": {},
   "outputs": [
    {
     "name": "stdout",
     "output_type": "stream",
     "text": [
      "2.906591794880899\n",
      "2.200985160082949\n",
      "True\n"
     ]
    }
   ],
   "source": [
    "#### Practice Problem 14.1\n",
    "\n",
    "# Student's t test for correlated groups\n",
    "\n",
    "obs1 = [55, 43, 51, 62, 35, 48, 58, 45, 48, 54, 56, 32]\n",
    "obs2 = [48, 38, 53, 58, 36, 42, 55, 40, 49, 50, 58, 25]\n",
    "\n",
    "result = scipy.stats.ttest_rel(obs1, obs2)\n",
    "\n",
    "t_obt = result.statistic\n",
    "# Pagano = 2.91\n",
    "print(t_obt)\n",
    "\n",
    "# for alpha = 0.05 (two tailed)\n",
    "t_crit = scipy.stats.t.ppf(q=1-.05/2, df=len(obs1) - 1)\n",
    "print(t_crit)\n",
    "\n",
    "# can we reject null hypothesis?\n",
    "print(abs(t_obt) >= t_crit)"
   ]
  },
  {
   "cell_type": "code",
   "execution_count": 24,
   "id": "d76ef169-7510-4eb9-8b7e-c0dbe30272c7",
   "metadata": {},
   "outputs": [
    {
     "name": "stdout",
     "output_type": "stream",
     "text": [
      "-2.938751997551667\n",
      "-1.7709333959867992\n",
      "True\n"
     ]
    }
   ],
   "source": [
    "#### Practice Problem 14.2\n",
    "\n",
    "# Student's t test for independent groups\n",
    "\n",
    "g1 = [0.8, 0.7, 1.2, 0.5, 0.4, 0.9, 1.4, 1.1]\n",
    "g2 = [1.9, 1.8, 1.6, 1.2, 1.0, 0.9, 1.7]\n",
    "\n",
    "# Pagano = -2.94\n",
    "result = scipy.stats.ttest_ind(g1, g2)\n",
    "t_obs = result.statistic\n",
    "print(t_obs)\n",
    "\n",
    "# single tail\n",
    "t_crit = scipy.stats.t.ppf(q=0.05, df=len(g1) + len(g2) - 2)\n",
    "print(t_crit)\n",
    "\n",
    "# can we reject null hypothesis?\n",
    "print(abs(t_obs) > abs(t_crit))"
   ]
  },
  {
   "cell_type": "code",
   "execution_count": 25,
   "id": "8ab57c28-fbfb-48b9-ab86-bd4aa1424628",
   "metadata": {},
   "outputs": [
    {
     "name": "stdout",
     "output_type": "stream",
     "text": [
      "(1.0173085343216093, 4.582691465678392)\n",
      "True\n"
     ]
    }
   ],
   "source": [
    "#### Discussion on pp. 369 - 371\n",
    "\n",
    "# t-test confidence interval for the difference between means\n",
    "# this is an alternative solution to two group, indepndent groups design\n",
    "\n",
    "obs1 = [8, 10, 12, 6, 6, 7, 9, 8, 7, 11]\n",
    "obs2 = [5, 6, 3, 4, 7, 8, 6, 5, 4, 8]\n",
    "\n",
    "# scipy doesn't have this test; use statsmodels library\n",
    "\n",
    "cm = statsmodels.stats.api.CompareMeans(\n",
    "    statsmodels.stats.api.DescrStatsW(obs1),\n",
    "    statsmodels.stats.api.DescrStatsW(obs2)\n",
    ")\n",
    "\n",
    "# Pagano = 1.02 - 4.58\n",
    "interval = cm.tconfint_diff(alpha=0.05)\n",
    "print(interval)\n",
    "\n",
    "# \"The 95% confidence interval corresponds to alpha = 0.05 (2 tail) (0.025\n",
    "# under each tail). The nondirectional null hypothesis predicts that\n",
    "# difference of means = 0. Since the obtained 95% confidence interval does\n",
    "# not include a value of 0, we can reject the null hypothesis and affirm that\n",
    "# hormone X appears to have a real effect.\"\n",
    "\n",
    "# can we reject null hypothesis?\n",
    "interval_includes_zero = interval[0] <= 0 and 0 <= interval[1]\n",
    "print(not interval_includes_zero)"
   ]
  },
  {
   "cell_type": "code",
   "execution_count": 26,
   "id": "b17bd4f3-f85c-43d6-b4d4-2b3f45024c68",
   "metadata": {},
   "outputs": [
    {
     "name": "stdout",
     "output_type": "stream",
     "text": [
      "7.289447568640425\n",
      "3.4028261053501945\n",
      "True\n"
     ]
    }
   ],
   "source": [
    "#### Practice Problem 15.1\n",
    "\n",
    "# One-way ANOVA\n",
    "\n",
    "groups = [\n",
    "    [92, 86, 87, 76, 80, 87, 92, 83, 84],\n",
    "    [86, 93, 97, 81, 94, 89, 98, 90, 91],\n",
    "    [81, 80, 72, 82, 83, 89, 76, 88, 83]\n",
    "]\n",
    "\n",
    "df_numerator = len(groups) - 1\n",
    "df_denominator = sum([len(g) for g in groups]) - len(groups)\n",
    "\n",
    "# Pagano = 7.29\n",
    "result = scipy.stats.f_oneway(*groups)\n",
    "f_obt = result.statistic\n",
    "print(f_obt)\n",
    "\n",
    "f_dist = scipy.stats.f(df_numerator, df_denominator)\n",
    "# for 0.05 alpha, we want to find the p value at 95%, the tail\n",
    "# Pagano = 3.40\n",
    "f_crit = f_dist.ppf(1 - 0.05)\n",
    "print(f_crit)\n",
    "\n",
    "# can we reject null hypothesis?\n",
    "test_result = false if f_obt <= 1 else (f_obt >= f_crit)\n",
    "print(test_result)"
   ]
  },
  {
   "cell_type": "code",
   "execution_count": 27,
   "id": "7aed57bc-53ae-4155-beed-4c7ccd0e9a4e",
   "metadata": {},
   "outputs": [
    {
     "name": "stdout",
     "output_type": "stream",
     "text": [
      "Planned - t tests for group pairings\n",
      "-2.322609247314475\n",
      "3.7601786192323745\n",
      "2.0638985616280205\n",
      "True\n",
      "True\n",
      "\n",
      "Post hoc - Tukey Honestly Significant Difference test\n",
      "3.531045387265579\n",
      " Multiple Comparison of Means - Tukey HSD, FWER=0.05 \n",
      "=====================================================\n",
      "group1 group2 meandiff p-adj   lower    upper  reject\n",
      "-----------------------------------------------------\n",
      "group1 group2   5.7778 0.0726  -0.4494 12.0049  False\n",
      "group1 group3  -3.6667 0.3229  -9.8938  2.5605  False\n",
      "group2 group3  -9.4444 0.0025 -15.6716 -3.2173   True\n",
      "-----------------------------------------------------\n"
     ]
    }
   ],
   "source": [
    "#### Practice Problem 15.2\n",
    "\n",
    "# Planned and post hoc comparisons on data used in ANOVA example in 15.1\n",
    "\n",
    "# same data as in 15.1, copied for safety\n",
    "groups = [\n",
    "    [92, 86, 87, 76, 80, 87, 92, 83, 84],\n",
    "    [86, 93, 97, 81, 94, 89, 98, 90, 91],\n",
    "    [81, 80, 72, 82, 83, 89, 76, 88, 83]\n",
    "]\n",
    "\n",
    "# degrees of freedom = N -k\n",
    "df = sum([len(g) for g in groups]) - len(groups)\n",
    "\n",
    "print(\"Planned - t tests for group pairings\")\n",
    "\n",
    "# t test on conditions 1 and 2\n",
    "# Pagano = 2.32\n",
    "result = scipy.stats.ttest_ind(groups[0], groups[1])\n",
    "planned1 = result.statistic\n",
    "print(planned1)\n",
    "\n",
    "# t test on conditions 2 and 3\n",
    "# Pagano = 3.79\n",
    "result = scipy.stats.ttest_ind(groups[1], groups[2])\n",
    "planned2 = result.statistic\n",
    "print(planned2)\n",
    "\n",
    "# two tailed comparison for alpha 0.05\n",
    "# Pagano = 2.064\n",
    "t_crit = scipy.stats.t.ppf(q=1-0.05/2, df=df)\n",
    "print(t_crit)\n",
    "\n",
    "# can we reject null hypothesis?\n",
    "print(abs(planned1) > t_crit)\n",
    "print(abs(planned2) > t_crit)\n",
    "\n",
    "print(\"\\nPost hoc - Tukey Honestly Significant Difference test\")\n",
    "\n",
    "flattened = functools.reduce(lambda x, y: x+y, groups)\n",
    "group_labels = ['group1'] * len(groups[0]) + ['group2'] * len(groups[1]) + ['group3'] * len(groups[2])\n",
    "\n",
    "result = statsmodels.stats.multicomp.pairwise_tukeyhsd(endog=flattened, groups=group_labels, alpha=0.05)\n",
    "\n",
    "# Pagano = 3.53\n",
    "print(result.q_crit)\n",
    "\n",
    "# Pagano = only test between condition 2 and 3 is significant and allows rejection of null hypothesis.\n",
    "# this gives us the same result, but the numbers are quite different:\n",
    "# doesn't seem to correspond to calculations for q_obt.\n",
    "print(result)\n",
    "\n",
    "# there's no Newman-Keuls test, have to write it by hand"
   ]
  }
 ],
 "metadata": {
  "kernelspec": {
   "display_name": "Python 3 (ipykernel)",
   "language": "python",
   "name": "python3"
  },
  "language_info": {
   "codemirror_mode": {
    "name": "ipython",
    "version": 3
   },
   "file_extension": ".py",
   "mimetype": "text/x-python",
   "name": "python",
   "nbconvert_exporter": "python",
   "pygments_lexer": "ipython3",
   "version": "3.8.10"
  }
 },
 "nbformat": 4,
 "nbformat_minor": 5
}
